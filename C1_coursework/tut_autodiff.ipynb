{
 "cells": [
  {
   "cell_type": "markdown",
   "metadata": {},
   "source": [
    "# Automatic differentiation with dual_autodiff\n",
    "\n",
    "`dual_autodiff` is a Python package that performs automatic differentiation using dual numbers, it's main component is the `Dual` class. Once the package has been installed through the provided wheels or using \"pip install -e .\" within the root directories of both packages one can work with them as follows\n"
   ]
  },
  {
   "cell_type": "code",
   "execution_count": 1,
   "metadata": {},
   "outputs": [],
   "source": [
    "from dual_autodiff.dual import Dual\n",
    "from dual_x import Dual as Dual_x\n",
    "import numpy as np\n",
    "import matplotlib.pyplot as plt\n",
    "from timeit import timeit"
   ]
  },
  {
   "cell_type": "code",
   "execution_count": 2,
   "metadata": {},
   "outputs": [],
   "source": [
    "# Analytic function\n",
    "def f(x):\n",
    "    return np.log(np.sin(x)) + x**2*np.cos(x)\n",
    "# Analytic derivative\n",
    "def f_(x):\n",
    "    return 1/np.tan(x) + 2*x*np.cos(x) - x**2*np.sin(x)\n",
    "# Numeric derivative\n",
    "def numeric_diff(f,x,h=1e-6):\n",
    "    return (f(x+h)-f(x-h))/(2*h)"
   ]
  },
  {
   "cell_type": "code",
   "execution_count": 3,
   "metadata": {},
   "outputs": [
    {
     "name": "stdout",
     "output_type": "stream",
     "text": [
      "Dual(real=5.0,dual=3.0)\n"
     ]
    }
   ],
   "source": [
    "#Initializing a dual number\n",
    "x=Dual(2.,1.)\n",
    "y=Dual(3.,2.)\n",
    "\n",
    "print((x+y))"
   ]
  },
  {
   "cell_type": "code",
   "execution_count": 4,
   "metadata": {},
   "outputs": [
    {
     "name": "stdout",
     "output_type": "stream",
     "text": [
      "Dual(real=0.9092974268256817,dual=-0.4161468365471424)\n"
     ]
    }
   ],
   "source": [
    "#Performing a trignometric computation\n",
    "print(x.sin())"
   ]
  },
  {
   "cell_type": "code",
   "execution_count": 5,
   "metadata": {},
   "outputs": [],
   "source": [
    "x= Dual(1.5,1.0)\n",
    "z= Dual_x(1.5,1.0)"
   ]
  },
  {
   "cell_type": "code",
   "execution_count": 6,
   "metadata": {},
   "outputs": [
    {
     "name": "stdout",
     "output_type": "stream",
     "text": [
      "5.28 μs ± 109 ns per loop (mean ± std. dev. of 7 runs, 100,000 loops each)\n",
      "8.06 μs ± 1.01 μs per loop (mean ± std. dev. of 7 runs, 100,000 loops each)\n",
      "8.61 μs ± 115 ns per loop (mean ± std. dev. of 7 runs, 100,000 loops each)\n",
      "6.79 μs ± 145 ns per loop (mean ± std. dev. of 7 runs, 100,000 loops each)\n"
     ]
    }
   ],
   "source": [
    "#Comparing computation times\n",
    "%timeit f_(1.5)\n",
    "%timeit numeric_diff(f,1.5)\n",
    "%timeit x.sin().log() + x**2*x.cos()\n",
    "%timeit z.sin().log() + z**2*z.cos()\n"
   ]
  },
  {
   "cell_type": "markdown",
   "metadata": {},
   "source": [
    "One can clearly see that the computation time for the cythonized class is less than the pure Python class."
   ]
  },
  {
   "cell_type": "markdown",
   "metadata": {},
   "source": [
    "### Making sure we are computing the correct answer\n"
   ]
  },
  {
   "cell_type": "code",
   "execution_count": 7,
   "metadata": {},
   "outputs": [
    {
     "name": "stdout",
     "output_type": "stream",
     "text": [
      "0.15665054756073515 -1.9612372705533612\n"
     ]
    }
   ],
   "source": [
    "print(f(1.5),f_(1.5))"
   ]
  },
  {
   "cell_type": "code",
   "execution_count": 8,
   "metadata": {},
   "outputs": [
    {
     "name": "stdout",
     "output_type": "stream",
     "text": [
      "0.15665054756073515 -1.9612372717525695\n"
     ]
    }
   ],
   "source": [
    "print(f(1.5),numeric_diff(f,1.5,1e-7))"
   ]
  },
  {
   "cell_type": "code",
   "execution_count": 9,
   "metadata": {},
   "outputs": [
    {
     "name": "stdout",
     "output_type": "stream",
     "text": [
      "Dual(real=0.15665054756073515,dual=-1.9612372705533612)\n"
     ]
    }
   ],
   "source": [
    "x= Dual(1.5,1)\n",
    "\n",
    "diff= x.sin().log() + x**2*x.cos()\n",
    "print(diff)"
   ]
  },
  {
   "cell_type": "code",
   "execution_count": 10,
   "metadata": {},
   "outputs": [
    {
     "name": "stdout",
     "output_type": "stream",
     "text": [
      "Dual(real=0.15665054756073515,dual=-1.9612372705533612)\n"
     ]
    }
   ],
   "source": [
    "x= Dual_x(1.5,1)\n",
    "\n",
    "diff= x.sin().log() + x**2*x.cos()\n",
    "print(diff)"
   ]
  },
  {
   "cell_type": "markdown",
   "metadata": {},
   "source": [
    "### Why do we avoid numeric methods?\n",
    "\n",
    "Numeric methods lead to an error, in our case that error is proportional to the square of the step size, when computing derivatives using the chain rule this error compounds which can lead to errors when we compute the minima of our loss functions and such."
   ]
  },
  {
   "cell_type": "code",
   "execution_count": 11,
   "metadata": {},
   "outputs": [],
   "source": [
    "errs=[]\n",
    "for i in range(1,6):\n",
    "    for j in range(1,10):\n",
    "        errs.append((j*10**-i,np.abs(f_(1.5)-numeric_diff(f,1.5,j*10**-i))))\n",
    "\n",
    "errs= np.array(errs)"
   ]
  },
  {
   "cell_type": "code",
   "execution_count": 12,
   "metadata": {},
   "outputs": [],
   "source": [
    "errs= np.log(errs)"
   ]
  },
  {
   "cell_type": "code",
   "execution_count": 13,
   "metadata": {},
   "outputs": [
    {
     "name": "stdout",
     "output_type": "stream",
     "text": [
      "slope of log graph: 1.990395085293052\n"
     ]
    },
    {
     "data": {
      "image/png": "[encoded data removed]",
      "text/plain": [
       "<Figure size 640x480 with 1 Axes>"
      ]
     },
     "metadata": {},
     "output_type": "display_data"
    }
   ],
   "source": [
    "plt.scatter(errs[:,0],errs[:,1])\n",
    "m,c= np.polyfit(errs[:,0],errs[:,1],1)\n",
    "plt.title(\"Error in numeric differentiation\")\n",
    "plt.xlabel(\"log(step size)\")\n",
    "plt.ylabel(\"log(absolute error)\")\n",
    "print('slope of log graph:',m)"
   ]
  },
  {
   "cell_type": "markdown",
   "metadata": {},
   "source": [
    "### Comparing cython with pure python\n",
    "\n",
    "Now we will compare the efficiency of using a cythonized version of `dual_autodiff` with a pure Python implementation"
   ]
  },
  {
   "cell_type": "code",
   "execution_count": 14,
   "metadata": {},
   "outputs": [],
   "source": [
    "a= Dual(2.0,1.0)\n",
    "b= Dual_x(2.0,1.0)"
   ]
  },
  {
   "cell_type": "code",
   "execution_count": 15,
   "metadata": {},
   "outputs": [],
   "source": [
    "order=['sum','diff','mult','div','sin','cos','tan','log','exp']\n",
    "def test_time(a):\n",
    "    ts= []\n",
    "    ts.append(timeit(lambda: a+a,number=100000))\n",
    "    ts.append(timeit(lambda: a-a,number=100000))\n",
    "    ts.append(timeit(lambda: a*a,number=100000))\n",
    "    ts.append(timeit(lambda: a/a,number=100000))\n",
    "    ts.append(timeit(lambda: a.sin(),number=100000))\n",
    "    ts.append(timeit(lambda: a.cos(),number=100000))\n",
    "    ts.append(timeit(lambda: a.tan(),number=100000))\n",
    "    ts.append(timeit(lambda: a.log(),number=100000))\n",
    "    ts.append(timeit(lambda: a.exp(),number=100000))\n",
    "    return ts"
   ]
  },
  {
   "cell_type": "code",
   "execution_count": 16,
   "metadata": {},
   "outputs": [],
   "source": [
    "t_norm= test_time(a)\n",
    "t_cy= test_time(b)"
   ]
  },
  {
   "cell_type": "code",
   "execution_count": 17,
   "metadata": {},
   "outputs": [
    {
     "data": {
      "image/png": "[encoded data removed]",
      "text/plain": [
       "<Figure size 640x480 with 1 Axes>"
      ]
     },
     "metadata": {},
     "output_type": "display_data"
    }
   ],
   "source": [
    "xs= np.arange(0,17,2)\n",
    "width= 0.5\n",
    "plt.bar(xs,t_norm,width=width,label=\"regular\")\n",
    "plt.bar(xs+width,t_cy,width=width,label=\"cythonized\")\n",
    "plt.xticks(xs,order)\n",
    "plt.title(\"Comparison of execution times for cythonized against regular autodiff\")\n",
    "plt.ylabel(\"time\")\n",
    "plt.xlabel(\"operation\")\n",
    "plt.legend()\n",
    "plt.show()"
   ]
  },
  {
   "cell_type": "markdown",
   "metadata": {},
   "source": [
    "So what do we see? It is clear that cython seems to be much faster for implementations that involved pure python, like arithmetic operations, however, since we were using numpy for our algebraic manipulations, cython does not seem to amount to much of a difference since numpy is written in C to begin with"
   ]
  }
 ],
 "metadata": {
  "kernelspec": {
   "display_name": "Python 3",
   "language": "python",
   "name": "python3"
  },
  "language_info": {
   "codemirror_mode": {
    "name": "ipython",
    "version": 3
   },
   "file_extension": ".py",
   "mimetype": "text/x-python",
   "name": "python",
   "nbconvert_exporter": "python",
   "pygments_lexer": "ipython3",
   "version": "3.12.3"
  }
 },
 "nbformat": 4,
 "nbformat_minor": 2
}
