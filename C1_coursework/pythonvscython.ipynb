{
 "cells": [
  {
   "cell_type": "code",
   "execution_count": 2,
   "metadata": {},
   "outputs": [
    {
     "name": "stdout",
     "output_type": "stream",
     "text": [
      "Defaulting to user installation because normal site-packages is not writeable\n",
      "Obtaining file:///C:/Users/prith/Cambridge_materials/Projects/C1_coursework/dual_autodiff\n",
      "  Installing build dependencies: started\n",
      "  Installing build dependencies: finished with status 'done'\n",
      "  Checking if build backend supports build_editable: started\n",
      "  Checking if build backend supports build_editable: finished with status 'done'\n",
      "  Getting requirements to build editable: started\n",
      "  Getting requirements to build editable: finished with status 'done'\n",
      "  Preparing editable metadata (pyproject.toml): started\n",
      "  Preparing editable metadata (pyproject.toml): finished with status 'done'\n",
      "Requirement already satisfied: numpy>=1.23.0 in c:\\users\\prith\\appdata\\local\\packages\\pythonsoftwarefoundation.python.3.13_qbz5n2kfra8p0\\localcache\\local-packages\\python313\\site-packages (from dual_autodiff==0.1.0) (2.2.0)\n",
      "Building wheels for collected packages: dual_autodiff\n",
      "  Building editable for dual_autodiff (pyproject.toml): started\n",
      "  Building editable for dual_autodiff (pyproject.toml): finished with status 'done'\n",
      "  Created wheel for dual_autodiff: filename=dual_autodiff-0.1.0-0.editable-py3-none-any.whl size=5674 sha256=1eacf75a1326cd59bc2110a648218e383d8661ad963a57992c5ae2839ee7a9a8\n",
      "  Stored in directory: C:\\Users\\prith\\AppData\\Local\\Temp\\pip-ephem-wheel-cache-tkxnorxr\\wheels\\6b\\a2\\35\\a098e7745f1392bdb72a1a99b727eb19101318fa1ab534de59\n",
      "Successfully built dual_autodiff\n",
      "Installing collected packages: dual_autodiff\n",
      "  Attempting uninstall: dual_autodiff\n",
      "    Found existing installation: dual_autodiff 0.1.0\n",
      "    Uninstalling dual_autodiff-0.1.0:\n",
      "      Successfully uninstalled dual_autodiff-0.1.0\n",
      "Successfully installed dual_autodiff-0.1.0\n"
     ]
    }
   ],
   "source": [
    "!pip install -e dual_autodiff \n"
   ]
  },
  {
   "cell_type": "code",
   "execution_count": 18,
   "metadata": {},
   "outputs": [
    {
     "name": "stdout",
     "output_type": "stream",
     "text": [
      "Defaulting to user installation because normal site-packages is not writeable\n",
      "Obtaining file:///C:/Users/prith/Cambridge_materials/Projects/C1_coursework/dual_autodiff_x\n",
      "  Installing build dependencies: started\n",
      "  Installing build dependencies: finished with status 'done'\n",
      "  Checking if build backend supports build_editable: started\n",
      "  Checking if build backend supports build_editable: finished with status 'done'\n",
      "  Getting requirements to build editable: started\n",
      "  Getting requirements to build editable: finished with status 'done'\n",
      "  Preparing editable metadata (pyproject.toml): started\n",
      "  Preparing editable metadata (pyproject.toml): finished with status 'done'\n",
      "Requirement already satisfied: numpy>=1.23.0 in c:\\users\\prith\\appdata\\local\\packages\\pythonsoftwarefoundation.python.3.13_qbz5n2kfra8p0\\localcache\\local-packages\\python313\\site-packages (from dual_autodiff_x==0.1.0b0) (2.2.0)\n",
      "Building wheels for collected packages: dual_autodiff_x\n",
      "  Building editable for dual_autodiff_x (pyproject.toml): started\n",
      "  Building editable for dual_autodiff_x (pyproject.toml): finished with status 'done'\n",
      "  Created wheel for dual_autodiff_x: filename=dual_autodiff_x-0.1.0b0-0.editable-cp313-cp313-win_amd64.whl size=5580 sha256=e6d785ee0aacaf14510507aefc684dfe51001d5504e20ae0624da29bf3772b1e\n",
      "  Stored in directory: C:\\Users\\prith\\AppData\\Local\\Temp\\pip-ephem-wheel-cache-i0xj5qbw\\wheels\\cc\\1d\\dc\\ea01a71787ffbe4c166784959ae19162475964367978732690\n",
      "Successfully built dual_autodiff_x\n",
      "Installing collected packages: dual_autodiff_x\n",
      "  Attempting uninstall: dual_autodiff_x\n",
      "    Found existing installation: dual_autodiff_x 0.1.0b0\n",
      "    Uninstalling dual_autodiff_x-0.1.0b0:\n",
      "      Successfully uninstalled dual_autodiff_x-0.1.0b0\n",
      "Successfully installed dual_autodiff_x-0.1.0b0\n"
     ]
    }
   ],
   "source": [
    "!pip install -e dual_autodiff_x"
   ]
  },
  {
   "cell_type": "code",
   "execution_count": null,
   "metadata": {},
   "outputs": [],
   "source": []
  }
 ],
 "metadata": {
  "kernelspec": {
   "display_name": "Python 3",
   "language": "python",
   "name": "python3"
  },
  "language_info": {
   "codemirror_mode": {
    "name": "ipython",
    "version": 3
   },
   "file_extension": ".py",
   "mimetype": "text/x-python",
   "name": "python",
   "nbconvert_exporter": "python",
   "pygments_lexer": "ipython3",
   "version": "3.12.4"
  }
 },
 "nbformat": 4,
 "nbformat_minor": 2
}
