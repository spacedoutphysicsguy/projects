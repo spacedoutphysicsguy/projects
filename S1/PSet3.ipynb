{
 "cells": [
  {
   "cell_type": "code",
   "execution_count": 30,
   "metadata": {},
   "outputs": [],
   "source": [
    "import numpy as np\n",
    "from math import factorial\n",
    "from scipy.stats import norm as mvn\n",
    "import matplotlib.pyplot as plt\n",
    "from jacobi import propagate\n"
   ]
  },
  {
   "cell_type": "code",
   "execution_count": 3,
   "metadata": {},
   "outputs": [
    {
     "data": {
      "text/plain": [
       "np.int64(2306)"
      ]
     },
     "execution_count": 3,
     "metadata": {},
     "output_type": "execute_result"
    }
   ],
   "source": [
    "data= np.array([1042,860,307,78,15,3,0,0,0,1])\n",
    "N= np.sum(data)\n",
    "N"
   ]
  },
  {
   "cell_type": "code",
   "execution_count": 9,
   "metadata": {},
   "outputs": [
    {
     "data": {
      "text/plain": [
       "np.float64(0.777103209019948)"
      ]
     },
     "execution_count": 9,
     "metadata": {},
     "output_type": "execute_result"
    }
   ],
   "source": [
    "lamb= np.sum([i*data[i] for i in range(len(data))])/N\n",
    "lamb"
   ]
  },
  {
   "cell_type": "code",
   "execution_count": 17,
   "metadata": {},
   "outputs": [
    {
     "data": {
      "text/plain": [
       "array([1.06015085e+03, 8.23846630e+02, 3.20106930e+02, 8.29187075e+01,\n",
       "       1.61090984e+01, 2.50368642e+00, 3.24270458e-01, 3.59988019e-02,\n",
       "       3.49684806e-03, 3.01934650e-04])"
      ]
     },
     "execution_count": 17,
     "metadata": {},
     "output_type": "execute_result"
    }
   ],
   "source": [
    "exp_data= np.array([np.exp(-lamb)*lamb**i/factorial(i) for i in range(len(data))])*N\n",
    "exp_data"
   ]
  },
  {
   "cell_type": "code",
   "execution_count": 21,
   "metadata": {},
   "outputs": [
    {
     "data": {
      "text/plain": [
       "np.float64(3313.239517460762)"
      ]
     },
     "execution_count": 21,
     "metadata": {},
     "output_type": "execute_result"
    }
   ],
   "source": [
    "chi_sq= np.sum((data-exp_data)**2/exp_data)\n",
    "chi_sq"
   ]
  },
  {
   "cell_type": "code",
   "execution_count": 22,
   "metadata": {},
   "outputs": [
    {
     "data": {
      "text/plain": [
       "np.float64(3.2642594028679612)"
      ]
     },
     "execution_count": 22,
     "metadata": {},
     "output_type": "execute_result"
    }
   ],
   "source": [
    "chi_sq= np.sum((data[:-1]-exp_data[:-1])**2/exp_data[:-1])\n",
    "chi_sq"
   ]
  },
  {
   "cell_type": "code",
   "execution_count": 23,
   "metadata": {},
   "outputs": [
    {
     "data": {
      "text/plain": [
       "np.float64(3309.975258057894)"
      ]
     },
     "execution_count": 23,
     "metadata": {},
     "output_type": "execute_result"
    }
   ],
   "source": [
    "(data[-1]-exp_data[-1])**2/exp_data[-1]"
   ]
  },
  {
   "cell_type": "code",
   "execution_count": 31,
   "metadata": {},
   "outputs": [],
   "source": [
    "mus= np.array([-9.3,-1.3,5.7,6.5])\n",
    "stds= np.array([[8.2,8.4,8.2,8.3]])\n",
    "corr= np.array([[1.,-.1,-.05,.1],[-.1,1.,.1,-.05],[-.05,.1,1.,.1],[.1,-.05,.1,1.]])\n",
    "cov_mat= stds*corr*stds.T"
   ]
  },
  {
   "cell_type": "code",
   "execution_count": 33,
   "metadata": {},
   "outputs": [],
   "source": [
    "def f(x1,x2,y1,y2):\n",
    "    r_sq= (x1**2+x2**2+y1**2+y2**2)/2\n",
    "    r= np.sqrt(r_sq)\n",
    "    delta= .5*np.arcsin((y1*x2+y2*x1)/r_sq)\n",
    "    gamma= .5*np.arcsin((y1*x2-y2*x1)/r_sq)\n",
    "    return r,delta,gamma"
   ]
  },
  {
   "cell_type": "code",
   "execution_count": null,
   "metadata": {},
   "outputs": [],
   "source": []
  }
 ],
 "metadata": {
  "kernelspec": {
   "display_name": "Python 3",
   "language": "python",
   "name": "python3"
  },
  "language_info": {
   "codemirror_mode": {
    "name": "ipython",
    "version": 3
   },
   "file_extension": ".py",
   "mimetype": "text/x-python",
   "name": "python",
   "nbconvert_exporter": "python",
   "pygments_lexer": "ipython3",
   "version": "3.12.4"
  }
 },
 "nbformat": 4,
 "nbformat_minor": 2
}
