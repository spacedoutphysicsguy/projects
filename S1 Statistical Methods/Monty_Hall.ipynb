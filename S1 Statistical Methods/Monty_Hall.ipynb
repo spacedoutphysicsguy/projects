{
 "cells": [
  {
   "cell_type": "code",
   "execution_count": null,
   "metadata": {},
   "outputs": [],
   "source": [
    "import numpy as np\n",
    "import seaborn as sns\n",
    "import matplotlib.pyplot as plt\n",
    "import matplotlib as mpl\n",
    "from numpy.random import default_rng\n",
    "from tqdm import tqdm"
   ]
  },
  {
   "cell_type": "markdown",
   "metadata": {},
   "source": [
    "# The Monty Hall problem\n",
    "\n",
    "This simulation is for an extension of the Monty Hall problem, assuming there are N doors, with k prizes behind them, after a contestant chooses one door, the host reveals that p doors are empty. The task is to calculate the probability of success if one switches to one of the other doors that are still closed."
   ]
  },
  {
   "cell_type": "code",
   "execution_count": null,
   "metadata": {},
   "outputs": [],
   "source": [
    "def test(N,k,p):\n",
    "    return k/N, k/N*(N-1)/(N-p-1)"
   ]
  },
  {
   "cell_type": "code",
   "execution_count": null,
   "metadata": {},
   "outputs": [],
   "source": [
    "#Numder of doors\n",
    "N=10\n",
    "#Number of prizes\n",
    "k=2\n",
    "#Number of doors opened after initial guess\n",
    "p=6\n",
    "#Number of times the simulation is conducted\n",
    "N_sims= 10000\n",
    "#Random number generator for assigning prize doors\n",
    "rng= default_rng()"
   ]
  },
  {
   "cell_type": "code",
   "execution_count": null,
   "metadata": {},
   "outputs": [
    {
     "name": "stderr",
     "output_type": "stream",
     "text": [
      "100%|██████████| 10000/10000 [00:01<00:00, 5612.47it/s]\n"
     ]
    }
   ],
   "source": [
    "#Monte Carlo\n",
    "#initialising variables to store the probabilities\n",
    "stay_prob=0\n",
    "switch_prob=0\n",
    "for i in tqdm(range(N_sims)):\n",
    "    #List of doors\n",
    "    doors= np.arange(N)\n",
    "    #Choosing a door at random\n",
    "    first_choice= np.random.randint(N)\n",
    "    #Randomly assigning prize doors \n",
    "    prize_doors= rng.choice(N,size=k,replace=False)\n",
    "    # Randomly closing doors that do not have prizes in them\n",
    "    forbidden_doors= np.unique(np.append(prize_doors,first_choice))\n",
    "    closed_doors= rng.choice(doors[np.isin(doors,forbidden_doors,invert=True)],size=p,replace=False)\n",
    "    #Finding which doors can be switched to and switching to one\n",
    "    remaining_doors= doors[np.isin(doors,np.append(closed_doors,first_choice),invert=True)]\n",
    "    switch_choice= rng.choice(remaining_doors)\n",
    "    if np.isin(first_choice,prize_doors):\n",
    "        stay_prob+=1\n",
    "    if np.isin(switch_choice,prize_doors):\n",
    "        switch_prob+=1\n",
    "\n",
    "stay_prob=stay_prob/N_sims\n",
    "switch_prob=switch_prob/N_sims"
   ]
  },
  {
   "cell_type": "code",
   "execution_count": null,
   "metadata": {},
   "outputs": [
    {
     "name": "stdout",
     "output_type": "stream",
     "text": [
      "0.2023 0.5961\n",
      "(0.2, 0.6)\n"
     ]
    }
   ],
   "source": [
    "print(stay_prob,switch_prob)\n",
    "print(test(N,k,p))"
   ]
  }
 ],
 "metadata": {
  "language_info": {
   "name": "python"
  }
 },
 "nbformat": 4,
 "nbformat_minor": 2
}
