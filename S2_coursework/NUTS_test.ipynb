{
 "cells": [
  {
   "cell_type": "code",
   "execution_count": null,
   "metadata": {},
   "outputs": [],
   "source": [
    "import os\n",
    "os.environ[\"JAX_PLATFORMS\"]='cpu'\n",
    "os.environ[\"XLA_FLAGS\"]= \"--xla_force_host_platform_device_count=12\"\n",
    "#os.environ[\"XLA_PYTHON_CLIENT_PREALLOCATE\"]=\"false\" \n",
    "#os.environ[\"XLA_PYTHON_CLIENT_MEM_FRACTION\"]= \"0.10\""
   ]
  },
  {
   "cell_type": "code",
   "execution_count": 2,
   "metadata": {},
   "outputs": [],
   "source": [
    "from collections import namedtuple\n",
    "\n",
    "import jax \n",
    "from jax import lax\n",
    "import jax.numpy as jnp\n",
    "from jax import grad,hessian,jit,vmap,pmap\n",
    "from jax import random\n",
    "from jax.tree_util import tree_leaves,tree_map,tree_flatten,tree_unflatten\n",
    "\n",
    "import numpy as np\n",
    "import matplotlib.pyplot as plt\n",
    "from functools import partial\n",
    "import pandas as pd\n",
    "import seaborn as sns\n"
   ]
  },
  {
   "cell_type": "code",
   "execution_count": null,
   "metadata": {},
   "outputs": [],
   "source": []
  }
 ],
 "metadata": {
  "kernelspec": {
   "display_name": "S2_venv",
   "language": "python",
   "name": "python3"
  },
  "language_info": {
   "codemirror_mode": {
    "name": "ipython",
    "version": 3
   },
   "file_extension": ".py",
   "mimetype": "text/x-python",
   "name": "python",
   "nbconvert_exporter": "python",
   "pygments_lexer": "ipython3",
   "version": "3.11.0"
  }
 },
 "nbformat": 4,
 "nbformat_minor": 2
}
