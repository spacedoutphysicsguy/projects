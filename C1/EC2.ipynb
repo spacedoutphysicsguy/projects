{
 "cells": [
  {
   "cell_type": "code",
   "execution_count": 1,
   "metadata": {},
   "outputs": [],
   "source": [
    "import numpy as np\n",
    "import matplotlib.pyplot as plt\n",
    "import matplotlib as mpl\n",
    "import seaborn as sns"
   ]
  },
  {
   "cell_type": "code",
   "execution_count": 2,
   "metadata": {},
   "outputs": [],
   "source": [
    "def approx_sin(x):\n",
    "    coeffs= np.array([0.,1.,0.,-1.,0.])\n",
    "    sinx=0\n",
    "    fact=1\n",
    "    for i,a in enumerate(coeffs):\n",
    "        sinx+= a*x**i/fact\n",
    "        fact=fact*(i+1)\n",
    "\n",
    "    return sinx\n",
    "\n",
    "def primes(n):\n",
    "    prime_nums=np.array([2])\n",
    "    for i in range(2,n):\n",
    "        if np.all(i%prime_nums!=0):\n",
    "            prime_nums= np.append(prime_nums,i)\n",
    "\n",
    "    return prime_nums\n",
    "\n",
    "def recaman_seq(n):\n",
    "    terms=np.array([])\n",
    "    a=0\n",
    "    for i in range(1,n+1):\n",
    "        a_m= a-i\n",
    "        if a_m>0 and ~np.isin(a_m,terms):\n",
    "            a=a_m\n",
    "            \n",
    "        else:\n",
    "            a+=i\n",
    "            \n",
    "        terms=np.append(terms,a)\n",
    "    \n",
    "\n",
    "    return(terms)\n",
    "\n",
    "def random_walk(pos=0,step_size=1,endpoint=10):\n",
    "    poss=[]\n",
    "    while abs(pos)< endpoint:\n",
    "        pos+=np.random.choice([-1,1])*step_size\n",
    "        poss.append(pos)\n",
    "\n",
    "    return np.array(poss)\n"
   ]
  },
  {
   "cell_type": "code",
   "execution_count": 3,
   "metadata": {},
   "outputs": [
    {
     "name": "stdout",
     "output_type": "stream",
     "text": [
      "The fifth order expansion of sin(0.1) rounded to 5 decimal places is: 0.09983, The analytical value is: 0.09983\n"
     ]
    }
   ],
   "source": [
    "print(f\"The fifth order expansion of sin(0.1) rounded to 5 decimal places is: {approx_sin(0.1).round(5)}, The analytical value is: {np.sin(0.1).round(5)}\")"
   ]
  },
  {
   "cell_type": "code",
   "execution_count": 4,
   "metadata": {},
   "outputs": [
    {
     "name": "stdout",
     "output_type": "stream",
     "text": [
      "Prime numbers less than 15 are: \n",
      "[ 2  3  5  7 11 13]\n",
      "Recaman sequence uptil 15 terms is: \n",
      "[ 1.  3.  6.  2.  7. 13. 20. 12. 21. 11. 22. 10. 23.  9. 24.]\n",
      "The common terms are: \n",
      "[ 2  3  7 11 13]\n"
     ]
    }
   ],
   "source": [
    "n=15\n",
    "prime_nums= primes(n)\n",
    "recamans= recaman_seq(n)\n",
    "commons= prime_nums[np.isin(prime_nums,recamans)]\n",
    "print(f\"Prime numbers less than {n} are: \\n{prime_nums}\\nRecaman sequence uptil {n} terms is: \\n{recamans}\"\n",
    "      f\"\\nThe common terms are: \\n{commons}\")"
   ]
  },
  {
   "cell_type": "code",
   "execution_count": 5,
   "metadata": {},
   "outputs": [
    {
     "name": "stdout",
     "output_type": "stream",
     "text": [
      "[(1, 362880), (2, 181440), (3, 120960), (4, 90720), (5, 72576), (6, 60480), (7, 51840), (8, 45360), (9, 40320), (10, 36288), (12, 30240), (14, 25920), (15, 24192), (16, 22680), (18, 20160), (20, 18144), (21, 17280), (24, 15120), (27, 13440), (28, 12960), (30, 12096), (32, 11340), (35, 10368), (36, 10080), (40, 9072), (42, 8640), (45, 8064), (48, 7560), (54, 6720), (56, 6480), (60, 6048), (63, 5760), (64, 5670), (70, 5184), (72, 5040), (80, 4536), (81, 4480), (84, 4320), (90, 4032), (96, 3780), (105, 3456), (108, 3360), (112, 3240), (120, 3024), (126, 2880), (128, 2835), (135, 2688), (140, 2592), (144, 2520), (160, 2268), (162, 2240), (168, 2160), (180, 2016), (189, 1920), (192, 1890), (210, 1728), (216, 1680), (224, 1620), (240, 1512), (252, 1440), (270, 1344), (280, 1296), (288, 1260), (315, 1152), (320, 1134), (324, 1120), (336, 1080), (360, 1008), (378, 960), (384, 945), (405, 896), (420, 864), (432, 840), (448, 810), (480, 756), (504, 720), (540, 672), (560, 648), (567, 640), (576, 630)]\n"
     ]
    }
   ],
   "source": [
    "factors= [(i,362880//i) for i in range(1,int(362880**0.5)) if 362880%i==0]\n",
    "print(factors)"
   ]
  },
  {
   "cell_type": "code",
   "execution_count": 16,
   "metadata": {},
   "outputs": [
    {
     "name": "stdout",
     "output_type": "stream",
     "text": [
      "Total steps: 122\n"
     ]
    },
    {
     "data": {
      "image/png": "[encoded data removed]",
      "text/plain": [
       "<Figure size 640x480 with 1 Axes>"
      ]
     },
     "metadata": {},
     "output_type": "display_data"
    }
   ],
   "source": [
    "poss= random_walk()\n",
    "print(f\"Total steps: {len(poss)}\")\n",
    "ax= sns.histplot(x=poss,color=\"Steelblue\")\n",
    "plt.xlabel(\"Position\")\n",
    "plt.show()"
   ]
  }
 ],
 "metadata": {
  "kernelspec": {
   "display_name": "Python 3",
   "language": "python",
   "name": "python3"
  },
  "language_info": {
   "codemirror_mode": {
    "name": "ipython",
    "version": 3
   },
   "file_extension": ".py",
   "mimetype": "text/x-python",
   "name": "python",
   "nbconvert_exporter": "python",
   "pygments_lexer": "ipython3",
   "version": "3.12.4"
  }
 },
 "nbformat": 4,
 "nbformat_minor": 2
}
