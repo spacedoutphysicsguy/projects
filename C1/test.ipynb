{
 "cells": [
  {
   "cell_type": "code",
   "execution_count": null,
   "metadata": {},
   "outputs": [],
   "source": [
    "import numpy as np\n",
    "import matplotlib.pyplot as plt\n",
    "from ipywidgets import interactive\n",
    "import ipywidgets as widgets"
   ]
  },
  {
   "cell_type": "code",
   "execution_count": 2,
   "metadata": {},
   "outputs": [],
   "source": [
    "\n",
    "\n",
    "# Function to generate sinusoidal grating pattern at a given angle and frequency\n",
    "def generate_sinusoidal_grating(angle_deg, frequency=5, image_size=64):\n",
    "    angle = np.deg2rad(angle_deg)\n",
    "    # Create a grid of coordinates\n",
    "    y, x = np.meshgrid(np.linspace(-1, 1, image_size), np.linspace(-1, 1, image_size))\n",
    "\n",
    "    # Apply the rotation to the grid\n",
    "    x_rot = x * np.cos(angle) + y * np.sin(angle)\n",
    "\n",
    "    # Generate the sinusoidal grating pattern\n",
    "    image = 127.5 * (1 + np.sin(2 * np.pi * frequency * x_rot))  # Sinusoidal pattern between 0 and 255\n",
    "\n",
    "    return image\n",
    "\n",
    "# Function to update and display the Fourier transform as the angle and frequency change\n",
    "def update_sinusoidal_grating(angle_deg, frequency):\n",
    "    # Generate the rotated sinusoidal grating image\n",
    "    image = generate_sinusoidal_grating(angle_deg, frequency)\n",
    "\n",
    "    # Perform 2D Fourier transform\n",
    "    f_transform = np.fft.fftshift(np.fft.fft2(image))\n",
    "\n",
    "    # Calculate magnitude and phase\n",
    "    magnitude = np.abs(f_transform)\n",
    "    phase = np.angle(f_transform)\n",
    "\n",
    "    # Plot the original image, magnitude, and phase\n",
    "    plt.figure(figsize=(15, 5))\n",
    "\n",
    "    plt.subplot(1, 3, 1)\n",
    "    plt.imshow(image, cmap='gray')\n",
    "    plt.title(f\"Sinusoidal Grating (Angle {angle_deg}°, Frequency {frequency})\")\n",
    "    plt.axis('off')\n",
    "\n",
    "    plt.subplot(1, 3, 2)\n",
    "    plt.imshow(np.log(1 + magnitude), cmap='gray')\n",
    "    plt.title(\"Magnitude\")\n",
    "    plt.axis('off')\n",
    "\n",
    "    plt.subplot(1, 3, 3)\n",
    "    plt.imshow(phase, cmap='gray')\n",
    "    plt.title(\"Phase\")\n",
    "    plt.axis('off')\n",
    "\n",
    "    plt.show()\n",
    "\n",
    "# Create the interactive widget for adjusting the angle and frequency of the sinusoidal grating\n",
    "interactive_plot = interactive(\n",
    "    update_sinusoidal_grating,\n",
    "    angle_deg=widgets.FloatSlider(value=0, min=0, max=90, step=1, description='Angle (°):'),\n",
    "    frequency=widgets.FloatSlider(value=5, min=1, max=20, step=1, description='Frequency:')\n",
    ")\n",
    "output = interactive_plot.children[-1]\n",
    "output.layout.height = '400px'\n",
    "interactive_plot"
   ]
  },
  {
   "cell_type": "code",
   "execution_count": null,
   "metadata": {},
   "outputs": [],
   "source": []
  },
  {
   "cell_type": "code",
   "execution_count": 1,
   "metadata": {},
   "outputs": [],
   "source": [
    "import numpy as np\n",
    "\n",
    "class Dual:\n",
    "    '''\n",
    "    Python class to perform automatic differentiation using dual numbers. \n",
    "    arguments: \n",
    "    a: input value\n",
    "    b: input slope\n",
    "    '''\n",
    "    #Initialisation\n",
    "    def __init__(self,a,b):\n",
    "        self.real= a \n",
    "        self.dual= b \n",
    "        \n",
    "\n",
    "    #Defining what to return when a dual object is printed\n",
    "    def __repr__(self):\n",
    "        return f\"Dual(real={self.real},dual={self.dual})\"\n",
    "        \n",
    "    def __str__(self):\n",
    "        return f\"Dual(real={self.real},dual={self.dual})\"\n",
    "    \n",
    "\n",
    "    #Defining arithmetic operations\n",
    "    def __add__(self,o):\n",
    "        return Dual(self.real+o.real,self.dual+o.dual)\n",
    "    \n",
    "    def __sub__(self,o):\n",
    "        return Dual(self.real-o.real,self.dual-o.dual)\n",
    "    \n",
    "    def __mul__(self,o):\n",
    "        return Dual(self.real*o.real,self.dual*o.real+self.real*o.dual)\n",
    "    \n",
    "    def __truediv__(self,o):\n",
    "        return Dual(self.real/o.real,(self.dual*o.real-self.real*o.dual)/(o.real**2))\n",
    "    \n",
    "    def __pow__(self,o):\n",
    "        if type(o)== type(self):\n",
    "            return Dual(self.real**o.real,self.real**o.real*((o.real*self.dual)/self.real + o.dual*np.log(self.real)))\n",
    "        else:\n",
    "            return Dual(self.real**o,o*self.real**(o-1))\n",
    "    \n",
    "\n",
    "    #Defining common algebraic operations\n",
    "    def sin(self):\n",
    "        return Dual(np.sin(self.real),self.dual*np.cos(self.real))\n",
    "    \n",
    "    def cos(self):\n",
    "        return Dual(np.cos(self.real),-self.dual*np.sin(self.real))\n",
    "    \n",
    "    def tan(self):\n",
    "        return Dual(np.tan(self.real),self.dual*np.cos(self.real)**-2)\n",
    "    \n",
    "    def log(self):\n",
    "        return Dual(np.log(self.real),self.dual/self.real)\n",
    "    \n",
    "    def exp(self):\n",
    "        return Dual(np.exp(self.real),self.dual*np.exp(self.real))"
   ]
  },
  {
   "cell_type": "code",
   "execution_count": 2,
   "metadata": {},
   "outputs": [
    {
     "data": {
      "text/plain": [
       "Dual(real=3.0,dual=-10.0)"
      ]
     },
     "execution_count": 2,
     "metadata": {},
     "output_type": "execute_result"
    }
   ],
   "source": [
    "x= Dual(3,2)\n",
    "y= Dual(1,4)\n",
    "\n",
    "x/y"
   ]
  },
  {
   "cell_type": "code",
   "execution_count": 4,
   "metadata": {},
   "outputs": [
    {
     "data": {
      "text/plain": [
       "Dual(real=0.6931471805599453,dual=0.5)"
      ]
     },
     "execution_count": 4,
     "metadata": {},
     "output_type": "execute_result"
    }
   ],
   "source": [
    "x.log()"
   ]
  },
  {
   "cell_type": "code",
   "execution_count": 3,
   "metadata": {},
   "outputs": [
    {
     "data": {
      "text/plain": [
       "Dual(real=0.9092974268256817,dual=-0.4161468365471424)"
      ]
     },
     "execution_count": 3,
     "metadata": {},
     "output_type": "execute_result"
    }
   ],
   "source": [
    "x= Dual(2,1)\n",
    "x.sin()"
   ]
  }
 ],
 "metadata": {
  "kernelspec": {
   "display_name": "Python 3",
   "language": "python",
   "name": "python3"
  },
  "language_info": {
   "codemirror_mode": {
    "name": "ipython",
    "version": 3
   },
   "file_extension": ".py",
   "mimetype": "text/x-python",
   "name": "python",
   "nbconvert_exporter": "python",
   "pygments_lexer": "ipython3",
   "version": "3.13.1"
  }
 },
 "nbformat": 4,
 "nbformat_minor": 2
}
